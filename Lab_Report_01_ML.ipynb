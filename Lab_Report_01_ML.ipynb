{
  "nbformat": 4,
  "nbformat_minor": 0,
  "metadata": {
    "colab": {
      "provenance": [],
      "mount_file_id": "1T98PM7nisjsTc_u5oU7Rj9FDMbNoafqJ",
      "authorship_tag": "ABX9TyNiu0sKWFENXFaF7RDOznwG",
      "include_colab_link": true
    },
    "kernelspec": {
      "name": "python3",
      "display_name": "Python 3"
    },
    "language_info": {
      "name": "python"
    }
  },
  "cells": [
    {
      "cell_type": "markdown",
      "metadata": {
        "id": "view-in-github",
        "colab_type": "text"
      },
      "source": [
        "<a href=\"https://colab.research.google.com/github/MDJubayer255/ml_Lab01/blob/main/Lab_Report_01_ML.ipynb\" target=\"_parent\"><img src=\"https://colab.research.google.com/assets/colab-badge.svg\" alt=\"Open In Colab\"/></a>"
      ]
    },
    {
      "cell_type": "code",
      "source": [
        "# Import required libraries\n",
        "import pandas as pd\n",
        "import numpy as np\n",
        "from sklearn.model_selection import train_test_split\n",
        "from sklearn.linear_model import LinearRegression\n",
        "from sklearn.metrics import accuracy_score, confusion_matrix, precision_score, recall_score, f1_score\n",
        "\n",
        "# prompt: read csv file from googel drive\n",
        "\n",
        "file_path = '/content/drive/My Drive/Colab Notebooks/Csvfiles/diabetes.csv'\n",
        "dataset = pd.read_csv(file_path)\n",
        "dataset.head()\n",
        "\n",
        "# Step 2: Replace 0s in key columns with mean\n",
        "cols = ['Glucose', 'BloodPressure', 'SkinThickness', 'Insulin', 'BMI']\n",
        "for col in cols:\n",
        "    dataset[col] = dataset[col].replace(0, np.nan)\n",
        "    dataset[col].fillna(dataset[col].mean(), inplace=True)\n",
        "\n",
        "# Step 3: Replace the first row’s Glucose with the maximum Glucose value\n",
        "dataset.at[0, 'Glucose'] = dataset['Glucose'].max()\n",
        "\n",
        "# Step 4: Replace Glucose of the youngest person(s) with minimum Glucose value\n",
        "min_age = dataset['Age'].min()\n",
        "min_glucose = dataset['Glucose'].min()\n",
        "dataset.loc[dataset['Age'] == min_age, 'Glucose'] = min_glucose\n",
        "\n",
        "# Step 5: Feature and label separation\n",
        "X = dataset.drop('Outcome', axis=1).values\n",
        "y = dataset['Outcome'].values\n",
        "\n",
        "# Step 6: Split into training and testing data\n",
        "X_train, X_test, y_train, y_test = train_test_split(X, y, test_size=0.2, random_state=0)\n",
        "\n",
        "# Step 7: Train Linear Regression model\n",
        "regressor = LinearRegression()\n",
        "regressor.fit(X_train, y_train)\n",
        "\n",
        "# Step 8: Predict the results and round to 0 or 1\n",
        "y_pred = regressor.predict(X_test)\n",
        "y_pred = np.round(y_pred).astype(int)\n",
        "\n",
        "# Step 9: Create comparison dataframe\n",
        "df = pd.DataFrame({'Actual': y_test, 'Predicted': y_pred})\n",
        "print(df.head())\n",
        "\n",
        "# Step 10: Evaluation Metrics\n",
        "print(\"Accuracy:\", accuracy_score(y_test, y_pred))\n",
        "print(\"Confusion Matrix:\\n\", confusion_matrix(y_test, y_pred))\n",
        "print(\"Precision:\", precision_score(y_test, y_pred))\n",
        "print(\"Recall:\", recall_score(y_test, y_pred))\n",
        "print(\"F1 Score:\", f1_score(y_test, y_pred))\n"
      ],
      "metadata": {
        "colab": {
          "base_uri": "https://localhost:8080/"
        },
        "id": "yjaxHhwWVt5f",
        "outputId": "8d974f58-df9e-44f4-cbce-5359b0712234"
      },
      "execution_count": 5,
      "outputs": [
        {
          "output_type": "stream",
          "name": "stdout",
          "text": [
            "   Actual  Predicted\n",
            "0       1          1\n",
            "1       0          0\n",
            "2       0          0\n",
            "3       1          1\n",
            "4       0          0\n",
            "Accuracy: 0.8116883116883117\n",
            "Confusion Matrix:\n",
            " [[97 10]\n",
            " [19 28]]\n",
            "Precision: 0.7368421052631579\n",
            "Recall: 0.5957446808510638\n",
            "F1 Score: 0.6588235294117647\n"
          ]
        },
        {
          "output_type": "stream",
          "name": "stderr",
          "text": [
            "/tmp/ipython-input-5-141602170.py:18: FutureWarning: A value is trying to be set on a copy of a DataFrame or Series through chained assignment using an inplace method.\n",
            "The behavior will change in pandas 3.0. This inplace method will never work because the intermediate object on which we are setting values always behaves as a copy.\n",
            "\n",
            "For example, when doing 'df[col].method(value, inplace=True)', try using 'df.method({col: value}, inplace=True)' or df[col] = df[col].method(value) instead, to perform the operation inplace on the original object.\n",
            "\n",
            "\n",
            "  dataset[col].fillna(dataset[col].mean(), inplace=True)\n"
          ]
        }
      ]
    }
  ]
}