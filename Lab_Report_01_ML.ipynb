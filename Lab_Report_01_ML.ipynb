{
  "nbformat": 4,
  "nbformat_minor": 0,
  "metadata": {
    "colab": {
      "provenance": [],
      "mount_file_id": "1T98PM7nisjsTc_u5oU7Rj9FDMbNoafqJ",
      "authorship_tag": "ABX9TyM/quAGIjfZl9OBhQvqbPoS",
      "include_colab_link": true
    },
    "kernelspec": {
      "name": "python3",
      "display_name": "Python 3"
    },
    "language_info": {
      "name": "python"
    }
  },
  "cells": [
    {
      "cell_type": "markdown",
      "metadata": {
        "id": "view-in-github",
        "colab_type": "text"
      },
      "source": [
        "<a href=\"https://colab.research.google.com/github/MDJubayer255/ml_Lab01/blob/main/Lab_Report_01_ML.ipynb\" target=\"_parent\"><img src=\"https://colab.research.google.com/assets/colab-badge.svg\" alt=\"Open In Colab\"/></a>"
      ]
    },
    {
      "cell_type": "code",
      "source": [
        "import pandas as pd\n",
        "import numpy as np\n",
        "from sklearn.linear_model import LinearRegression\n",
        "from sklearn.model_selection import train_test_split\n",
        "from sklearn.metrics import accuracy_score, confusion_matrix, precision_score, recall_score, f1_score\n",
        "\n",
        "# Load dataset from GitHub or local file\n",
        "from google.colab import drive\n",
        "# Load dataset from Google Drive\n",
        "dataset = pd.read_csv('/content/drive/My Drive/Colab Notebooks/Csvfiles/diabetes.csv')\n",
        "# Show first 5 rows of original dataset\n",
        "print(\"Original Dataset (First 5 Rows):\")\n",
        "print(dataset.head())\n",
        "\n",
        "# Replace 0s with mean for selected columns\n",
        "cols = ['Glucose', 'BloodPressure', 'SkinThickness', 'Insulin', 'BMI']\n",
        "for col in cols:\n",
        "    dataset[col] = dataset[col].replace(0, np.nan)\n",
        "    dataset[col] = dataset[col].fillna(dataset[col].mean())\n",
        "\n",
        "# Replace 1st row’s glucose with max\n",
        "dataset.at[0, 'Glucose'] = dataset['Glucose'].max()\n",
        "\n",
        "# Replace glucose for youngest patients with min\n",
        "min_age = dataset['Age'].min()\n",
        "min_glucose = dataset['Glucose'].min()\n",
        "dataset.loc[dataset['Age'] == min_age, 'Glucose'] = min_glucose\n",
        "\n",
        "# Show first 5 rows of dataset after preprocessing\n",
        "print(\"\\nAfter Preprocessing (First 5 Rows):\")\n",
        "print(dataset.head())\n",
        "\n",
        "# Feature-target split\n",
        "X = dataset.drop('Outcome', axis=1)\n",
        "y = dataset['Outcome']\n",
        "\n",
        "# Train/test split\n",
        "X_train, X_test, y_train, y_test = train_test_split(X, y, test_size=0.2, random_state=0)\n",
        "\n",
        "# Train linear regression model\n",
        "model = LinearRegression()\n",
        "model.fit(X_train, y_train)\n",
        "\n",
        "# Predict and round to 0 or 1\n",
        "y_pred = np.round(model.predict(X_test)).astype(int)\n",
        "\n",
        "# Evaluation\n",
        "acc = accuracy_score(y_test, y_pred)\n",
        "conf = confusion_matrix(y_test, y_pred)\n",
        "prec = precision_score(y_test, y_pred)\n",
        "rec = recall_score(y_test, y_pred)\n",
        "f1 = f1_score(y_test, y_pred)\n",
        "\n",
        "# Final output in required format\n",
        "print(\"\\n--------- Model Evaluation ---------\")\n",
        "print(f\"Accuracy: {acc:.2f}\")\n",
        "print(\"Confusion Matrix:\")\n",
        "print(conf)\n",
        "print(f\"Precision: {prec:.2f}\")\n",
        "print(f\"Recall: {rec:.2f}\")\n",
        "print(f\"F1 Score: {f1:.2f}\")\n"
      ],
      "metadata": {
        "colab": {
          "base_uri": "https://localhost:8080/"
        },
        "id": "-uagfwcfZ9sO",
        "outputId": "dda3d616-2722-4811-debb-aa52cc0a031b"
      },
      "execution_count": 8,
      "outputs": [
        {
          "output_type": "stream",
          "name": "stdout",
          "text": [
            "Original Dataset (First 5 Rows):\n",
            "   Pregnancies  Glucose  BloodPressure  SkinThickness  Insulin   BMI  \\\n",
            "0            6      148             72             35        0  33.6   \n",
            "1            1       85             66             29        0  26.6   \n",
            "2            8      183             64              0        0  23.3   \n",
            "3            1       89             66             23       94  28.1   \n",
            "4            0      137             40             35      168  43.1   \n",
            "\n",
            "   DiabetesPedigreeFunction  Age  Outcome  \n",
            "0                     0.627   50        1  \n",
            "1                     0.351   31        0  \n",
            "2                     0.672   32        1  \n",
            "3                     0.167   21        0  \n",
            "4                     2.288   33        1  \n",
            "\n",
            "After Preprocessing (First 5 Rows):\n",
            "   Pregnancies  Glucose  BloodPressure  SkinThickness     Insulin   BMI  \\\n",
            "0            6    199.0           72.0       35.00000  155.548223  33.6   \n",
            "1            1     85.0           66.0       29.00000  155.548223  26.6   \n",
            "2            8    183.0           64.0       29.15342  155.548223  23.3   \n",
            "3            1     44.0           66.0       23.00000   94.000000  28.1   \n",
            "4            0    137.0           40.0       35.00000  168.000000  43.1   \n",
            "\n",
            "   DiabetesPedigreeFunction  Age  Outcome  \n",
            "0                     0.627   50        1  \n",
            "1                     0.351   31        0  \n",
            "2                     0.672   32        1  \n",
            "3                     0.167   21        0  \n",
            "4                     2.288   33        1  \n",
            "\n",
            "--------- Model Evaluation ---------\n",
            "Accuracy: 0.81\n",
            "Confusion Matrix:\n",
            "[[97 10]\n",
            " [19 28]]\n",
            "Precision: 0.74\n",
            "Recall: 0.60\n",
            "F1 Score: 0.66\n"
          ]
        }
      ]
    }
  ]
}